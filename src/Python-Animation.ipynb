{
 "cells": [
  {
   "cell_type": "markdown",
   "metadata": {},
   "source": []
  },
  {
   "cell_type": "markdown",
   "metadata": {},
   "source": [
    "### Source\n",
    "https://www.geeksforgeeks.org/how-to-create-animations-in-python/\n"
   ]
  },
  {
   "cell_type": "markdown",
   "metadata": {},
   "source": [
    "#### Scatter Plot"
   ]
  },
  {
   "cell_type": "code",
   "execution_count": 1,
   "metadata": {},
   "outputs": [
    {
     "name": "stderr",
     "output_type": "stream",
     "text": [
      "/var/folders/06/tvbgw1c973l85brc653qbtpw0000gn/T/ipykernel_34610/1282213786.py:25: UserWarning: frames=None which we can infer the length of, did not pass an explicit *save_count* and passed cache_frame_data=True.  To avoid a possibly unbounded cache, frame data caching has been disabled. To suppress this warning either pass `cache_frame_data=False` or `save_count=MAX_FRAMES`.\n",
      "  animation = FuncAnimation(fig, animation_func,\n"
     ]
    },
    {
     "data": {
      "application/vnd.jupyter.widget-view+json": {
       "model_id": "16b321751aa64bad8903b45160e9ec40",
       "version_major": 2,
       "version_minor": 0
      },
      "image/png": "[encoded data removed]",
      "text/html": [
       "\n",
       "            <div style=\"display: inline-block;\">\n",
       "                <div class=\"jupyter-widgets widget-label\" style=\"text-align: center;\">\n",
       "                    Figure\n",
       "                </div>\n",
       "                <img src='data:image/png;base64,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' width=700.0/>\n",
       "            </div>\n",
       "        "
      ],
      "text/plain": [
       "Canvas(toolbar=Toolbar(toolitems=[('Home', 'Reset original view', 'home', 'home'), ('Back', 'Back to previous …"
      ]
     },
     "metadata": {},
     "output_type": "display_data"
    }
   ],
   "source": [
    "from matplotlib import pyplot as plt\n",
    "from matplotlib.animation import FuncAnimation\n",
    "import ipympl\n",
    "\n",
    "import random\n",
    "import numpy as np\n",
    "%matplotlib ipympl\n",
    "\n",
    "\n",
    "\n",
    "x = []\n",
    "y = []\n",
    "colors = []\n",
    "fig = plt.figure(figsize=(7,5))\n",
    "\n",
    "def animation_func(i):\n",
    "    x.append(random.randint(0,100))\n",
    "    y.append(random.randint(0,100))\n",
    "    colors.append(np.random.rand(1))\n",
    "    area = random.randint(0,30) * random.randint(0,30)\n",
    "    plt.xlim(0,100)\n",
    "    plt.ylim(0,100)\n",
    "    plt.scatter(x, y, c=colors,s = area, alpha = 0.5)\n",
    "\n",
    "animation = FuncAnimation(fig, animation_func, \n",
    "                          interval = 100)\n",
    "plt.show()\n"
   ]
  },
  {
   "cell_type": "code",
   "execution_count": 7,
   "metadata": {},
   "outputs": [
    {
     "name": "stderr",
     "output_type": "stream",
     "text": [
      "/var/folders/06/tvbgw1c973l85brc653qbtpw0000gn/T/ipykernel_35242/3729308212.py:51: UserWarning: You passed in an explicit save_count=80 which is being ignored in favor of len(frames)=80.\n",
      "  animation = FuncAnimation(fig, animation_func,  frames = range(0,80),save_count=80)\n"
     ]
    },
    {
     "data": {
      "application/vnd.jupyter.widget-view+json": {
       "model_id": "200b93afdbc3476295dfd2d65c82d336",
       "version_major": 2,
       "version_minor": 0
      },
      "image/png": "[encoded data removed]",
      "text/html": [
       "\n",
       "            <div style=\"display: inline-block;\">\n",
       "                <div class=\"jupyter-widgets widget-label\" style=\"text-align: center;\">\n",
       "                    Figure\n",
       "                </div>\n",
       "                <img src='data:image/png;base64,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' width=700.0/>\n",
       "            </div>\n",
       "        "
      ],
      "text/plain": [
       "Canvas(toolbar=Toolbar(toolitems=[('Home', 'Reset original view', 'home', 'home'), ('Back', 'Back to previous …"
      ]
     },
     "metadata": {},
     "output_type": "display_data"
    },
    {
     "ename": "ValueError",
     "evalue": "'c' argument has 1 elements, which is inconsistent with 'x' and 'y' with size 4.",
     "output_type": "error",
     "traceback": [
      "\u001b[0;31m---------------------------------------------------------------------------\u001b[0m",
      "\u001b[0;31mTypeError\u001b[0m                                 Traceback (most recent call last)",
      "File \u001b[0;32m~/opt/anaconda3/envs/Py3.11/lib/python3.11/site-packages/matplotlib/axes/_axes.py:4483\u001b[0m, in \u001b[0;36mAxes._parse_scatter_color_args\u001b[0;34m(c, edgecolors, kwargs, xsize, get_next_color_func)\u001b[0m\n\u001b[1;32m   4482\u001b[0m \u001b[38;5;28;01mtry\u001b[39;00m:  \u001b[38;5;66;03m# Is 'c' acceptable as PathCollection facecolors?\u001b[39;00m\n\u001b[0;32m-> 4483\u001b[0m     colors \u001b[38;5;241m=\u001b[39m mcolors\u001b[38;5;241m.\u001b[39mto_rgba_array(c)\n\u001b[1;32m   4484\u001b[0m \u001b[38;5;28;01mexcept\u001b[39;00m (\u001b[38;5;167;01mTypeError\u001b[39;00m, \u001b[38;5;167;01mValueError\u001b[39;00m) \u001b[38;5;28;01mas\u001b[39;00m err:\n",
      "File \u001b[0;32m~/opt/anaconda3/envs/Py3.11/lib/python3.11/site-packages/matplotlib/colors.py:491\u001b[0m, in \u001b[0;36mto_rgba_array\u001b[0;34m(c, alpha)\u001b[0m\n\u001b[1;32m    489\u001b[0m     \u001b[38;5;28;01mraise\u001b[39;00m \u001b[38;5;167;01mValueError\u001b[39;00m(\u001b[38;5;124mf\u001b[39m\u001b[38;5;124m\"\u001b[39m\u001b[38;5;132;01m{\u001b[39;00mc\u001b[38;5;132;01m!r}\u001b[39;00m\u001b[38;5;124m is not a valid color value.\u001b[39m\u001b[38;5;124m\"\u001b[39m)\n\u001b[0;32m--> 491\u001b[0m \u001b[38;5;28;01mif\u001b[39;00m \u001b[38;5;28mlen\u001b[39m(c) \u001b[38;5;241m==\u001b[39m \u001b[38;5;241m0\u001b[39m:\n\u001b[1;32m    492\u001b[0m     \u001b[38;5;28;01mreturn\u001b[39;00m np\u001b[38;5;241m.\u001b[39mzeros((\u001b[38;5;241m0\u001b[39m, \u001b[38;5;241m4\u001b[39m), \u001b[38;5;28mfloat\u001b[39m)\n",
      "\u001b[0;31mTypeError\u001b[0m: len() of unsized object",
      "\nThe above exception was the direct cause of the following exception:\n",
      "\u001b[0;31mValueError\u001b[0m                                Traceback (most recent call last)",
      "File \u001b[0;32m~/opt/anaconda3/envs/Py3.11/lib/python3.11/site-packages/ipympl/backend_nbagg.py:279\u001b[0m, in \u001b[0;36mCanvas._handle_message\u001b[0;34m(self, object, content, buffers)\u001b[0m\n\u001b[1;32m    276\u001b[0m     \u001b[38;5;28mself\u001b[39m\u001b[38;5;241m.\u001b[39mmanager\u001b[38;5;241m.\u001b[39mhandle_json(content)\n\u001b[1;32m    278\u001b[0m \u001b[38;5;28;01melse\u001b[39;00m:\n\u001b[0;32m--> 279\u001b[0m     \u001b[38;5;28mself\u001b[39m\u001b[38;5;241m.\u001b[39mmanager\u001b[38;5;241m.\u001b[39mhandle_json(content)\n",
      "File \u001b[0;32m~/opt/anaconda3/envs/Py3.11/lib/python3.11/site-packages/matplotlib/backends/backend_webagg_core.py:464\u001b[0m, in \u001b[0;36mFigureManagerWebAgg.handle_json\u001b[0;34m(self, content)\u001b[0m\n\u001b[1;32m    463\u001b[0m \u001b[38;5;28;01mdef\u001b[39;00m \u001b[38;5;21mhandle_json\u001b[39m(\u001b[38;5;28mself\u001b[39m, content):\n\u001b[0;32m--> 464\u001b[0m     \u001b[38;5;28mself\u001b[39m\u001b[38;5;241m.\u001b[39mcanvas\u001b[38;5;241m.\u001b[39mhandle_event(content)\n",
      "File \u001b[0;32m~/opt/anaconda3/envs/Py3.11/lib/python3.11/site-packages/matplotlib/backends/backend_webagg_core.py:264\u001b[0m, in \u001b[0;36mFigureCanvasWebAggCore.handle_event\u001b[0;34m(self, event)\u001b[0m\n\u001b[1;32m    261\u001b[0m e_type \u001b[38;5;241m=\u001b[39m event[\u001b[38;5;124m'\u001b[39m\u001b[38;5;124mtype\u001b[39m\u001b[38;5;124m'\u001b[39m]\n\u001b[1;32m    262\u001b[0m handler \u001b[38;5;241m=\u001b[39m \u001b[38;5;28mgetattr\u001b[39m(\u001b[38;5;28mself\u001b[39m, \u001b[38;5;124mf\u001b[39m\u001b[38;5;124m'\u001b[39m\u001b[38;5;124mhandle_\u001b[39m\u001b[38;5;132;01m{\u001b[39;00me_type\u001b[38;5;132;01m}\u001b[39;00m\u001b[38;5;124m'\u001b[39m,\n\u001b[1;32m    263\u001b[0m                   \u001b[38;5;28mself\u001b[39m\u001b[38;5;241m.\u001b[39mhandle_unknown_event)\n\u001b[0;32m--> 264\u001b[0m \u001b[38;5;28;01mreturn\u001b[39;00m handler(event)\n",
      "File \u001b[0;32m~/opt/anaconda3/envs/Py3.11/lib/python3.11/site-packages/matplotlib/backends/backend_webagg_core.py:279\u001b[0m, in \u001b[0;36mFigureCanvasWebAggCore.handle_draw\u001b[0;34m(self, event)\u001b[0m\n\u001b[1;32m    278\u001b[0m \u001b[38;5;28;01mdef\u001b[39;00m \u001b[38;5;21mhandle_draw\u001b[39m(\u001b[38;5;28mself\u001b[39m, event):\n\u001b[0;32m--> 279\u001b[0m     \u001b[38;5;28mself\u001b[39m\u001b[38;5;241m.\u001b[39mdraw()\n",
      "File \u001b[0;32m~/opt/anaconda3/envs/Py3.11/lib/python3.11/site-packages/matplotlib/backends/backend_webagg_core.py:189\u001b[0m, in \u001b[0;36mFigureCanvasWebAggCore.draw\u001b[0;34m(self)\u001b[0m\n\u001b[1;32m    187\u001b[0m \u001b[38;5;28mself\u001b[39m\u001b[38;5;241m.\u001b[39m_png_is_old \u001b[38;5;241m=\u001b[39m \u001b[38;5;28;01mTrue\u001b[39;00m\n\u001b[1;32m    188\u001b[0m \u001b[38;5;28;01mtry\u001b[39;00m:\n\u001b[0;32m--> 189\u001b[0m     \u001b[38;5;28msuper\u001b[39m()\u001b[38;5;241m.\u001b[39mdraw()\n\u001b[1;32m    190\u001b[0m \u001b[38;5;28;01mfinally\u001b[39;00m:\n\u001b[1;32m    191\u001b[0m     \u001b[38;5;28mself\u001b[39m\u001b[38;5;241m.\u001b[39mmanager\u001b[38;5;241m.\u001b[39mrefresh_all()\n",
      "File \u001b[0;32m~/opt/anaconda3/envs/Py3.11/lib/python3.11/site-packages/matplotlib/backends/backend_agg.py:388\u001b[0m, in \u001b[0;36mFigureCanvasAgg.draw\u001b[0;34m(self)\u001b[0m\n\u001b[1;32m    385\u001b[0m \u001b[38;5;66;03m# Acquire a lock on the shared font cache.\u001b[39;00m\n\u001b[1;32m    386\u001b[0m \u001b[38;5;28;01mwith\u001b[39;00m (\u001b[38;5;28mself\u001b[39m\u001b[38;5;241m.\u001b[39mtoolbar\u001b[38;5;241m.\u001b[39m_wait_cursor_for_draw_cm() \u001b[38;5;28;01mif\u001b[39;00m \u001b[38;5;28mself\u001b[39m\u001b[38;5;241m.\u001b[39mtoolbar\n\u001b[1;32m    387\u001b[0m       \u001b[38;5;28;01melse\u001b[39;00m nullcontext()):\n\u001b[0;32m--> 388\u001b[0m     \u001b[38;5;28mself\u001b[39m\u001b[38;5;241m.\u001b[39mfigure\u001b[38;5;241m.\u001b[39mdraw(\u001b[38;5;28mself\u001b[39m\u001b[38;5;241m.\u001b[39mrenderer)\n\u001b[1;32m    389\u001b[0m     \u001b[38;5;66;03m# A GUI class may be need to update a window using this draw, so\u001b[39;00m\n\u001b[1;32m    390\u001b[0m     \u001b[38;5;66;03m# don't forget to call the superclass.\u001b[39;00m\n\u001b[1;32m    391\u001b[0m     \u001b[38;5;28msuper\u001b[39m()\u001b[38;5;241m.\u001b[39mdraw()\n",
      "File \u001b[0;32m~/opt/anaconda3/envs/Py3.11/lib/python3.11/site-packages/matplotlib/artist.py:95\u001b[0m, in \u001b[0;36m_finalize_rasterization.<locals>.draw_wrapper\u001b[0;34m(artist, renderer, *args, **kwargs)\u001b[0m\n\u001b[1;32m     93\u001b[0m \u001b[38;5;129m@wraps\u001b[39m(draw)\n\u001b[1;32m     94\u001b[0m \u001b[38;5;28;01mdef\u001b[39;00m \u001b[38;5;21mdraw_wrapper\u001b[39m(artist, renderer, \u001b[38;5;241m*\u001b[39margs, \u001b[38;5;241m*\u001b[39m\u001b[38;5;241m*\u001b[39mkwargs):\n\u001b[0;32m---> 95\u001b[0m     result \u001b[38;5;241m=\u001b[39m draw(artist, renderer, \u001b[38;5;241m*\u001b[39margs, \u001b[38;5;241m*\u001b[39m\u001b[38;5;241m*\u001b[39mkwargs)\n\u001b[1;32m     96\u001b[0m     \u001b[38;5;28;01mif\u001b[39;00m renderer\u001b[38;5;241m.\u001b[39m_rasterizing:\n\u001b[1;32m     97\u001b[0m         renderer\u001b[38;5;241m.\u001b[39mstop_rasterizing()\n",
      "File \u001b[0;32m~/opt/anaconda3/envs/Py3.11/lib/python3.11/site-packages/matplotlib/artist.py:72\u001b[0m, in \u001b[0;36mallow_rasterization.<locals>.draw_wrapper\u001b[0;34m(artist, renderer)\u001b[0m\n\u001b[1;32m     69\u001b[0m     \u001b[38;5;28;01mif\u001b[39;00m artist\u001b[38;5;241m.\u001b[39mget_agg_filter() \u001b[38;5;129;01mis\u001b[39;00m \u001b[38;5;129;01mnot\u001b[39;00m \u001b[38;5;28;01mNone\u001b[39;00m:\n\u001b[1;32m     70\u001b[0m         renderer\u001b[38;5;241m.\u001b[39mstart_filter()\n\u001b[0;32m---> 72\u001b[0m     \u001b[38;5;28;01mreturn\u001b[39;00m draw(artist, renderer)\n\u001b[1;32m     73\u001b[0m \u001b[38;5;28;01mfinally\u001b[39;00m:\n\u001b[1;32m     74\u001b[0m     \u001b[38;5;28;01mif\u001b[39;00m artist\u001b[38;5;241m.\u001b[39mget_agg_filter() \u001b[38;5;129;01mis\u001b[39;00m \u001b[38;5;129;01mnot\u001b[39;00m \u001b[38;5;28;01mNone\u001b[39;00m:\n",
      "File \u001b[0;32m~/opt/anaconda3/envs/Py3.11/lib/python3.11/site-packages/matplotlib/figure.py:3164\u001b[0m, in \u001b[0;36mFigure.draw\u001b[0;34m(self, renderer)\u001b[0m\n\u001b[1;32m   3161\u001b[0m \u001b[38;5;28;01mfinally\u001b[39;00m:\n\u001b[1;32m   3162\u001b[0m     \u001b[38;5;28mself\u001b[39m\u001b[38;5;241m.\u001b[39mstale \u001b[38;5;241m=\u001b[39m \u001b[38;5;28;01mFalse\u001b[39;00m\n\u001b[0;32m-> 3164\u001b[0m DrawEvent(\u001b[38;5;124m\"\u001b[39m\u001b[38;5;124mdraw_event\u001b[39m\u001b[38;5;124m\"\u001b[39m, \u001b[38;5;28mself\u001b[39m\u001b[38;5;241m.\u001b[39mcanvas, renderer)\u001b[38;5;241m.\u001b[39m_process()\n",
      "File \u001b[0;32m~/opt/anaconda3/envs/Py3.11/lib/python3.11/site-packages/matplotlib/backend_bases.py:1271\u001b[0m, in \u001b[0;36mEvent._process\u001b[0;34m(self)\u001b[0m\n\u001b[1;32m   1269\u001b[0m \u001b[38;5;28;01mdef\u001b[39;00m \u001b[38;5;21m_process\u001b[39m(\u001b[38;5;28mself\u001b[39m):\n\u001b[1;32m   1270\u001b[0m \u001b[38;5;250m    \u001b[39m\u001b[38;5;124;03m\"\"\"Process this event on ``self.canvas``, then unset ``guiEvent``.\"\"\"\u001b[39;00m\n\u001b[0;32m-> 1271\u001b[0m     \u001b[38;5;28mself\u001b[39m\u001b[38;5;241m.\u001b[39mcanvas\u001b[38;5;241m.\u001b[39mcallbacks\u001b[38;5;241m.\u001b[39mprocess(\u001b[38;5;28mself\u001b[39m\u001b[38;5;241m.\u001b[39mname, \u001b[38;5;28mself\u001b[39m)\n\u001b[1;32m   1272\u001b[0m     \u001b[38;5;28mself\u001b[39m\u001b[38;5;241m.\u001b[39m_guiEvent_deleted \u001b[38;5;241m=\u001b[39m \u001b[38;5;28;01mTrue\u001b[39;00m\n",
      "File \u001b[0;32m~/opt/anaconda3/envs/Py3.11/lib/python3.11/site-packages/matplotlib/cbook.py:303\u001b[0m, in \u001b[0;36mCallbackRegistry.process\u001b[0;34m(self, s, *args, **kwargs)\u001b[0m\n\u001b[1;32m    301\u001b[0m \u001b[38;5;28;01mexcept\u001b[39;00m \u001b[38;5;167;01mException\u001b[39;00m \u001b[38;5;28;01mas\u001b[39;00m exc:\n\u001b[1;32m    302\u001b[0m     \u001b[38;5;28;01mif\u001b[39;00m \u001b[38;5;28mself\u001b[39m\u001b[38;5;241m.\u001b[39mexception_handler \u001b[38;5;129;01mis\u001b[39;00m \u001b[38;5;129;01mnot\u001b[39;00m \u001b[38;5;28;01mNone\u001b[39;00m:\n\u001b[0;32m--> 303\u001b[0m         \u001b[38;5;28mself\u001b[39m\u001b[38;5;241m.\u001b[39mexception_handler(exc)\n\u001b[1;32m    304\u001b[0m     \u001b[38;5;28;01melse\u001b[39;00m:\n\u001b[1;32m    305\u001b[0m         \u001b[38;5;28;01mraise\u001b[39;00m\n",
      "File \u001b[0;32m~/opt/anaconda3/envs/Py3.11/lib/python3.11/site-packages/matplotlib/cbook.py:87\u001b[0m, in \u001b[0;36m_exception_printer\u001b[0;34m(exc)\u001b[0m\n\u001b[1;32m     85\u001b[0m \u001b[38;5;28;01mdef\u001b[39;00m \u001b[38;5;21m_exception_printer\u001b[39m(exc):\n\u001b[1;32m     86\u001b[0m     \u001b[38;5;28;01mif\u001b[39;00m _get_running_interactive_framework() \u001b[38;5;129;01min\u001b[39;00m [\u001b[38;5;124m\"\u001b[39m\u001b[38;5;124mheadless\u001b[39m\u001b[38;5;124m\"\u001b[39m, \u001b[38;5;28;01mNone\u001b[39;00m]:\n\u001b[0;32m---> 87\u001b[0m         \u001b[38;5;28;01mraise\u001b[39;00m exc\n\u001b[1;32m     88\u001b[0m     \u001b[38;5;28;01melse\u001b[39;00m:\n\u001b[1;32m     89\u001b[0m         traceback\u001b[38;5;241m.\u001b[39mprint_exc()\n",
      "File \u001b[0;32m~/opt/anaconda3/envs/Py3.11/lib/python3.11/site-packages/matplotlib/cbook.py:298\u001b[0m, in \u001b[0;36mCallbackRegistry.process\u001b[0;34m(self, s, *args, **kwargs)\u001b[0m\n\u001b[1;32m    296\u001b[0m \u001b[38;5;28;01mif\u001b[39;00m func \u001b[38;5;129;01mis\u001b[39;00m \u001b[38;5;129;01mnot\u001b[39;00m \u001b[38;5;28;01mNone\u001b[39;00m:\n\u001b[1;32m    297\u001b[0m     \u001b[38;5;28;01mtry\u001b[39;00m:\n\u001b[0;32m--> 298\u001b[0m         func(\u001b[38;5;241m*\u001b[39margs, \u001b[38;5;241m*\u001b[39m\u001b[38;5;241m*\u001b[39mkwargs)\n\u001b[1;32m    299\u001b[0m     \u001b[38;5;66;03m# this does not capture KeyboardInterrupt, SystemExit,\u001b[39;00m\n\u001b[1;32m    300\u001b[0m     \u001b[38;5;66;03m# and GeneratorExit\u001b[39;00m\n\u001b[1;32m    301\u001b[0m     \u001b[38;5;28;01mexcept\u001b[39;00m \u001b[38;5;167;01mException\u001b[39;00m \u001b[38;5;28;01mas\u001b[39;00m exc:\n",
      "File \u001b[0;32m~/opt/anaconda3/envs/Py3.11/lib/python3.11/site-packages/matplotlib/animation.py:912\u001b[0m, in \u001b[0;36mAnimation._start\u001b[0;34m(self, *args)\u001b[0m\n\u001b[1;32m    909\u001b[0m \u001b[38;5;28mself\u001b[39m\u001b[38;5;241m.\u001b[39m_fig\u001b[38;5;241m.\u001b[39mcanvas\u001b[38;5;241m.\u001b[39mmpl_disconnect(\u001b[38;5;28mself\u001b[39m\u001b[38;5;241m.\u001b[39m_first_draw_id)\n\u001b[1;32m    911\u001b[0m \u001b[38;5;66;03m# Now do any initial draw\u001b[39;00m\n\u001b[0;32m--> 912\u001b[0m \u001b[38;5;28mself\u001b[39m\u001b[38;5;241m.\u001b[39m_init_draw()\n\u001b[1;32m    914\u001b[0m \u001b[38;5;66;03m# Add our callback for stepping the animation and\u001b[39;00m\n\u001b[1;32m    915\u001b[0m \u001b[38;5;66;03m# actually start the event_source.\u001b[39;00m\n\u001b[1;32m    916\u001b[0m \u001b[38;5;28mself\u001b[39m\u001b[38;5;241m.\u001b[39mevent_source\u001b[38;5;241m.\u001b[39madd_callback(\u001b[38;5;28mself\u001b[39m\u001b[38;5;241m.\u001b[39m_step)\n",
      "File \u001b[0;32m~/opt/anaconda3/envs/Py3.11/lib/python3.11/site-packages/matplotlib/animation.py:1749\u001b[0m, in \u001b[0;36mFuncAnimation._init_draw\u001b[0;34m(self)\u001b[0m\n\u001b[1;32m   1741\u001b[0m         warnings\u001b[38;5;241m.\u001b[39mwarn(\n\u001b[1;32m   1742\u001b[0m             \u001b[38;5;124m\"\u001b[39m\u001b[38;5;124mCan not start iterating the frames for the initial draw. \u001b[39m\u001b[38;5;124m\"\u001b[39m\n\u001b[1;32m   1743\u001b[0m             \u001b[38;5;124m\"\u001b[39m\u001b[38;5;124mThis can be caused by passing in a 0 length sequence \u001b[39m\u001b[38;5;124m\"\u001b[39m\n\u001b[0;32m   (...)\u001b[0m\n\u001b[1;32m   1746\u001b[0m             \u001b[38;5;124m\"\u001b[39m\u001b[38;5;124mit may be exhausted due to a previous display or save.\u001b[39m\u001b[38;5;124m\"\u001b[39m\n\u001b[1;32m   1747\u001b[0m         )\n\u001b[1;32m   1748\u001b[0m         \u001b[38;5;28;01mreturn\u001b[39;00m\n\u001b[0;32m-> 1749\u001b[0m     \u001b[38;5;28mself\u001b[39m\u001b[38;5;241m.\u001b[39m_draw_frame(frame_data)\n\u001b[1;32m   1750\u001b[0m \u001b[38;5;28;01melse\u001b[39;00m:\n\u001b[1;32m   1751\u001b[0m     \u001b[38;5;28mself\u001b[39m\u001b[38;5;241m.\u001b[39m_drawn_artists \u001b[38;5;241m=\u001b[39m \u001b[38;5;28mself\u001b[39m\u001b[38;5;241m.\u001b[39m_init_func()\n",
      "File \u001b[0;32m~/opt/anaconda3/envs/Py3.11/lib/python3.11/site-packages/matplotlib/animation.py:1768\u001b[0m, in \u001b[0;36mFuncAnimation._draw_frame\u001b[0;34m(self, framedata)\u001b[0m\n\u001b[1;32m   1764\u001b[0m     \u001b[38;5;28mself\u001b[39m\u001b[38;5;241m.\u001b[39m_save_seq \u001b[38;5;241m=\u001b[39m \u001b[38;5;28mself\u001b[39m\u001b[38;5;241m.\u001b[39m_save_seq[\u001b[38;5;241m-\u001b[39m\u001b[38;5;28mself\u001b[39m\u001b[38;5;241m.\u001b[39m_save_count:]\n\u001b[1;32m   1766\u001b[0m \u001b[38;5;66;03m# Call the func with framedata and args. If blitting is desired,\u001b[39;00m\n\u001b[1;32m   1767\u001b[0m \u001b[38;5;66;03m# func needs to return a sequence of any artists that were modified.\u001b[39;00m\n\u001b[0;32m-> 1768\u001b[0m \u001b[38;5;28mself\u001b[39m\u001b[38;5;241m.\u001b[39m_drawn_artists \u001b[38;5;241m=\u001b[39m \u001b[38;5;28mself\u001b[39m\u001b[38;5;241m.\u001b[39m_func(framedata, \u001b[38;5;241m*\u001b[39m\u001b[38;5;28mself\u001b[39m\u001b[38;5;241m.\u001b[39m_args)\n\u001b[1;32m   1770\u001b[0m \u001b[38;5;28;01mif\u001b[39;00m \u001b[38;5;28mself\u001b[39m\u001b[38;5;241m.\u001b[39m_blit:\n\u001b[1;32m   1772\u001b[0m     err \u001b[38;5;241m=\u001b[39m \u001b[38;5;167;01mRuntimeError\u001b[39;00m(\u001b[38;5;124m'\u001b[39m\u001b[38;5;124mThe animation function must return a sequence \u001b[39m\u001b[38;5;124m'\u001b[39m\n\u001b[1;32m   1773\u001b[0m                        \u001b[38;5;124m'\u001b[39m\u001b[38;5;124mof Artist objects.\u001b[39m\u001b[38;5;124m'\u001b[39m)\n",
      "Cell \u001b[0;32mIn[7], line 45\u001b[0m, in \u001b[0;36manimation_func\u001b[0;34m(i)\u001b[0m\n\u001b[1;32m     39\u001b[0m  y\u001b[38;5;241m.\u001b[39mappend(yl[i])\n\u001b[1;32m     40\u001b[0m  \u001b[38;5;66;03m#x.append(i)\u001b[39;00m\n\u001b[1;32m     41\u001b[0m  \u001b[38;5;66;03m#y.append(2*i)\u001b[39;00m\n\u001b[1;32m     42\u001b[0m  \u001b[38;5;66;03m#print(x,y)\u001b[39;00m\n\u001b[1;32m     43\u001b[0m \u001b[38;5;66;03m# plt.xlim(-1,1)\u001b[39;00m\n\u001b[1;32m     44\u001b[0m \u001b[38;5;66;03m# plt.ylim(0,1)\u001b[39;00m\n\u001b[0;32m---> 45\u001b[0m  plt\u001b[38;5;241m.\u001b[39mscatter(x, y, c\u001b[38;5;241m=\u001b[39m\u001b[38;5;241m1\u001b[39m,alpha \u001b[38;5;241m=\u001b[39m \u001b[38;5;241m0.5\u001b[39m)\n",
      "File \u001b[0;32m~/opt/anaconda3/envs/Py3.11/lib/python3.11/site-packages/matplotlib/pyplot.py:3684\u001b[0m, in \u001b[0;36mscatter\u001b[0;34m(x, y, s, c, marker, cmap, norm, vmin, vmax, alpha, linewidths, edgecolors, plotnonfinite, data, **kwargs)\u001b[0m\n\u001b[1;32m   3665\u001b[0m \u001b[38;5;129m@_copy_docstring_and_deprecators\u001b[39m(Axes\u001b[38;5;241m.\u001b[39mscatter)\n\u001b[1;32m   3666\u001b[0m \u001b[38;5;28;01mdef\u001b[39;00m \u001b[38;5;21mscatter\u001b[39m(\n\u001b[1;32m   3667\u001b[0m     x: \u001b[38;5;28mfloat\u001b[39m \u001b[38;5;241m|\u001b[39m ArrayLike,\n\u001b[0;32m   (...)\u001b[0m\n\u001b[1;32m   3682\u001b[0m     \u001b[38;5;241m*\u001b[39m\u001b[38;5;241m*\u001b[39mkwargs,\n\u001b[1;32m   3683\u001b[0m ) \u001b[38;5;241m-\u001b[39m\u001b[38;5;241m>\u001b[39m PathCollection:\n\u001b[0;32m-> 3684\u001b[0m     __ret \u001b[38;5;241m=\u001b[39m gca()\u001b[38;5;241m.\u001b[39mscatter(\n\u001b[1;32m   3685\u001b[0m         x,\n\u001b[1;32m   3686\u001b[0m         y,\n\u001b[1;32m   3687\u001b[0m         s\u001b[38;5;241m=\u001b[39ms,\n\u001b[1;32m   3688\u001b[0m         c\u001b[38;5;241m=\u001b[39mc,\n\u001b[1;32m   3689\u001b[0m         marker\u001b[38;5;241m=\u001b[39mmarker,\n\u001b[1;32m   3690\u001b[0m         cmap\u001b[38;5;241m=\u001b[39mcmap,\n\u001b[1;32m   3691\u001b[0m         norm\u001b[38;5;241m=\u001b[39mnorm,\n\u001b[1;32m   3692\u001b[0m         vmin\u001b[38;5;241m=\u001b[39mvmin,\n\u001b[1;32m   3693\u001b[0m         vmax\u001b[38;5;241m=\u001b[39mvmax,\n\u001b[1;32m   3694\u001b[0m         alpha\u001b[38;5;241m=\u001b[39malpha,\n\u001b[1;32m   3695\u001b[0m         linewidths\u001b[38;5;241m=\u001b[39mlinewidths,\n\u001b[1;32m   3696\u001b[0m         edgecolors\u001b[38;5;241m=\u001b[39medgecolors,\n\u001b[1;32m   3697\u001b[0m         plotnonfinite\u001b[38;5;241m=\u001b[39mplotnonfinite,\n\u001b[1;32m   3698\u001b[0m         \u001b[38;5;241m*\u001b[39m\u001b[38;5;241m*\u001b[39m({\u001b[38;5;124m\"\u001b[39m\u001b[38;5;124mdata\u001b[39m\u001b[38;5;124m\"\u001b[39m: data} \u001b[38;5;28;01mif\u001b[39;00m data \u001b[38;5;129;01mis\u001b[39;00m \u001b[38;5;129;01mnot\u001b[39;00m \u001b[38;5;28;01mNone\u001b[39;00m \u001b[38;5;28;01melse\u001b[39;00m {}),\n\u001b[1;32m   3699\u001b[0m         \u001b[38;5;241m*\u001b[39m\u001b[38;5;241m*\u001b[39mkwargs,\n\u001b[1;32m   3700\u001b[0m     )\n\u001b[1;32m   3701\u001b[0m     sci(__ret)\n\u001b[1;32m   3702\u001b[0m     \u001b[38;5;28;01mreturn\u001b[39;00m __ret\n",
      "File \u001b[0;32m~/opt/anaconda3/envs/Py3.11/lib/python3.11/site-packages/matplotlib/__init__.py:1465\u001b[0m, in \u001b[0;36m_preprocess_data.<locals>.inner\u001b[0;34m(ax, data, *args, **kwargs)\u001b[0m\n\u001b[1;32m   1462\u001b[0m \u001b[38;5;129m@functools\u001b[39m\u001b[38;5;241m.\u001b[39mwraps(func)\n\u001b[1;32m   1463\u001b[0m \u001b[38;5;28;01mdef\u001b[39;00m \u001b[38;5;21minner\u001b[39m(ax, \u001b[38;5;241m*\u001b[39margs, data\u001b[38;5;241m=\u001b[39m\u001b[38;5;28;01mNone\u001b[39;00m, \u001b[38;5;241m*\u001b[39m\u001b[38;5;241m*\u001b[39mkwargs):\n\u001b[1;32m   1464\u001b[0m     \u001b[38;5;28;01mif\u001b[39;00m data \u001b[38;5;129;01mis\u001b[39;00m \u001b[38;5;28;01mNone\u001b[39;00m:\n\u001b[0;32m-> 1465\u001b[0m         \u001b[38;5;28;01mreturn\u001b[39;00m func(ax, \u001b[38;5;241m*\u001b[39m\u001b[38;5;28mmap\u001b[39m(sanitize_sequence, args), \u001b[38;5;241m*\u001b[39m\u001b[38;5;241m*\u001b[39mkwargs)\n\u001b[1;32m   1467\u001b[0m     bound \u001b[38;5;241m=\u001b[39m new_sig\u001b[38;5;241m.\u001b[39mbind(ax, \u001b[38;5;241m*\u001b[39margs, \u001b[38;5;241m*\u001b[39m\u001b[38;5;241m*\u001b[39mkwargs)\n\u001b[1;32m   1468\u001b[0m     auto_label \u001b[38;5;241m=\u001b[39m (bound\u001b[38;5;241m.\u001b[39marguments\u001b[38;5;241m.\u001b[39mget(label_namer)\n\u001b[1;32m   1469\u001b[0m                   \u001b[38;5;129;01mor\u001b[39;00m bound\u001b[38;5;241m.\u001b[39mkwargs\u001b[38;5;241m.\u001b[39mget(label_namer))\n",
      "File \u001b[0;32m~/opt/anaconda3/envs/Py3.11/lib/python3.11/site-packages/matplotlib/axes/_axes.py:4670\u001b[0m, in \u001b[0;36mAxes.scatter\u001b[0;34m(self, x, y, s, c, marker, cmap, norm, vmin, vmax, alpha, linewidths, edgecolors, plotnonfinite, **kwargs)\u001b[0m\n\u001b[1;32m   4667\u001b[0m \u001b[38;5;28;01mif\u001b[39;00m edgecolors \u001b[38;5;129;01mis\u001b[39;00m \u001b[38;5;28;01mNone\u001b[39;00m:\n\u001b[1;32m   4668\u001b[0m     orig_edgecolor \u001b[38;5;241m=\u001b[39m kwargs\u001b[38;5;241m.\u001b[39mget(\u001b[38;5;124m'\u001b[39m\u001b[38;5;124medgecolor\u001b[39m\u001b[38;5;124m'\u001b[39m, \u001b[38;5;28;01mNone\u001b[39;00m)\n\u001b[1;32m   4669\u001b[0m c, colors, edgecolors \u001b[38;5;241m=\u001b[39m \\\n\u001b[0;32m-> 4670\u001b[0m     \u001b[38;5;28mself\u001b[39m\u001b[38;5;241m.\u001b[39m_parse_scatter_color_args(\n\u001b[1;32m   4671\u001b[0m         c, edgecolors, kwargs, x\u001b[38;5;241m.\u001b[39msize,\n\u001b[1;32m   4672\u001b[0m         get_next_color_func\u001b[38;5;241m=\u001b[39m\u001b[38;5;28mself\u001b[39m\u001b[38;5;241m.\u001b[39m_get_patches_for_fill\u001b[38;5;241m.\u001b[39mget_next_color)\n\u001b[1;32m   4674\u001b[0m \u001b[38;5;28;01mif\u001b[39;00m plotnonfinite \u001b[38;5;129;01mand\u001b[39;00m colors \u001b[38;5;129;01mis\u001b[39;00m \u001b[38;5;28;01mNone\u001b[39;00m:\n\u001b[1;32m   4675\u001b[0m     c \u001b[38;5;241m=\u001b[39m np\u001b[38;5;241m.\u001b[39mma\u001b[38;5;241m.\u001b[39mmasked_invalid(c)\n",
      "File \u001b[0;32m~/opt/anaconda3/envs/Py3.11/lib/python3.11/site-packages/matplotlib/axes/_axes.py:4489\u001b[0m, in \u001b[0;36mAxes._parse_scatter_color_args\u001b[0;34m(c, edgecolors, kwargs, xsize, get_next_color_func)\u001b[0m\n\u001b[1;32m   4487\u001b[0m \u001b[38;5;28;01melse\u001b[39;00m:\n\u001b[1;32m   4488\u001b[0m     \u001b[38;5;28;01mif\u001b[39;00m \u001b[38;5;129;01mnot\u001b[39;00m valid_shape:\n\u001b[0;32m-> 4489\u001b[0m         \u001b[38;5;28;01mraise\u001b[39;00m invalid_shape_exception(c\u001b[38;5;241m.\u001b[39msize, xsize) \u001b[38;5;28;01mfrom\u001b[39;00m \u001b[38;5;21;01merr\u001b[39;00m\n\u001b[1;32m   4490\u001b[0m     \u001b[38;5;66;03m# Both the mapping *and* the RGBA conversion failed: pretty\u001b[39;00m\n\u001b[1;32m   4491\u001b[0m     \u001b[38;5;66;03m# severe failure => one may appreciate a verbose feedback.\u001b[39;00m\n\u001b[1;32m   4492\u001b[0m     \u001b[38;5;28;01mraise\u001b[39;00m \u001b[38;5;167;01mValueError\u001b[39;00m(\n\u001b[1;32m   4493\u001b[0m         \u001b[38;5;124mf\u001b[39m\u001b[38;5;124m\"\u001b[39m\u001b[38;5;124m'\u001b[39m\u001b[38;5;124mc\u001b[39m\u001b[38;5;124m'\u001b[39m\u001b[38;5;124m argument must be a color, a sequence of colors, \u001b[39m\u001b[38;5;124m\"\u001b[39m\n\u001b[1;32m   4494\u001b[0m         \u001b[38;5;124mf\u001b[39m\u001b[38;5;124m\"\u001b[39m\u001b[38;5;124mor a sequence of numbers, not \u001b[39m\u001b[38;5;132;01m{\u001b[39;00mc\u001b[38;5;132;01m!r}\u001b[39;00m\u001b[38;5;124m\"\u001b[39m) \u001b[38;5;28;01mfrom\u001b[39;00m \u001b[38;5;21;01merr\u001b[39;00m\n",
      "\u001b[0;31mValueError\u001b[0m: 'c' argument has 1 elements, which is inconsistent with 'x' and 'y' with size 4."
     ]
    }
   ],
   "source": [
    "from matplotlib import pyplot as plt\n",
    "from matplotlib.animation import FuncAnimation\n",
    "import ipympl\n",
    "%matplotlib ipympl\n",
    "import random\n",
    "import numpy as np\n",
    "\n",
    "# circle\n",
    "import math\n",
    "fig = plt.figure(figsize=(7,5))\n",
    "\n",
    "def compute_circle(xo=0, yo=0, r=1.0, step_size = 0.05, steps=80):\n",
    "    if r < 0:\n",
    "        raise ValueError(\"Radius cannot be negative.\")\n",
    "    \n",
    "    xl = []\n",
    "    yl = []\n",
    "    # Center of circule\n",
    "    x = r\n",
    "    y = 0.0\n",
    "    step = step_size\n",
    "    \n",
    "    for i in range(steps):\n",
    "        y = math.sqrt(r*r - x*x)\n",
    "        xl.append(x)\n",
    "        yl.append(y)\n",
    "      # print(i,x,y) \n",
    "        if x-step < -r or x-step> r:\n",
    "            step = -1.*step\n",
    "        x -= step\n",
    "    return xl, yl\n",
    "\n",
    "\n",
    "xl,yl = compute_circle()\n",
    "x = []\n",
    "y = []\n",
    "def animation_func(i):\n",
    "    x.append(xl[i])\n",
    "    y.append(yl[i])\n",
    "    #x.append(i)\n",
    "    #y.append(2*i)\n",
    "    #print(x,y)\n",
    "   # plt.xlim(-1,1)\n",
    "   # plt.ylim(0,1)\n",
    "    plt.scatter(x, y, c=1,alpha = 0.5)\n",
    "\n",
    "\n",
    "#for i in range(80):\n",
    "#    print(i, xl[i])\n",
    "\n",
    "animation = FuncAnimation(fig, animation_func,  frames = range(0,80),save_count=80)\n",
    "#plt.scatter(xl[0:20], yl[0:20],  alpha = 0.5)\n",
    "plt.show()"
   ]
  },
  {
   "cell_type": "code",
   "execution_count": null,
   "metadata": {},
   "outputs": [],
   "source": [
    "%matlab ipympl"
   ]
  },
  {
   "cell_type": "code",
   "execution_count": null,
   "metadata": {},
   "outputs": [],
   "source": [
    "import pandas as pd\n",
    "import matplotlib.pyplot as plt\n",
    "import matplotlib.ticker as ticker\n",
    "from matplotlib.animation import FuncAnimation\n",
    "\n",
    "df = pd.read_csv('city_populations.csv',\n",
    "                 usecols=['name', 'group', 'year', 'value'])\n",
    "\n",
    "colors = dict(zip(['India','Europe','Asia',\n",
    "                   'Latin America','Middle East',\n",
    "                   'North America','Africa'],\n",
    "                    ['#adb0ff', '#ffb3ff', '#90d595',\n",
    "                     '#e48381', '#aafbff', '#f7bb5f', \n",
    "                     '#eafb50']))\n",
    "\n",
    "group_lk = df.set_index('name')['group'].to_dict()\n",
    "\n",
    "def draw_barchart(year):\n",
    "    dff = df[df['year'].eq(year)].sort_values(by='value',\n",
    "                                              ascending=True).tail(10)\n",
    "    ax.clear()\n",
    "    ax.barh(dff['name'], dff['value'],\n",
    "            color=[colors[group_lk[x]] for x in dff['name']])\n",
    "    dx = dff['value'].max() / 200\n",
    "    \n",
    "    for i, (value, name) in enumerate(zip(dff['value'],\n",
    "                                          dff['name'])):\n",
    "        ax.text(value-dx, i,     name,           \n",
    "                size=14, weight=600,\n",
    "                ha='right', va='bottom')\n",
    "        ax.text(value-dx, i-.25, group_lk[name],\n",
    "                size=10, color='#444444', \n",
    "                ha='right', va='baseline')\n",
    "        ax.text(value+dx, i,     f'{value:,.0f}', \n",
    "                size=14, ha='left',  va='center')\n",
    "        \n",
    "    # polished styles\n",
    "    ax.text(1, 0.4, year, transform=ax.transAxes, \n",
    "            color='#777777', size=46, ha='right',\n",
    "            weight=800)\n",
    "    ax.text(0, 1.06, 'Population (thousands)',\n",
    "            transform=ax.transAxes, size=12,\n",
    "            color='#777777')\n",
    "    \n",
    "    ax.xaxis.set_major_formatter(ticker.StrMethodFormatter('{x:,.0f}'))\n",
    "    ax.xaxis.set_ticks_position('top')\n",
    "    ax.tick_params(axis='x', colors='#777777', labelsize=12)\n",
    "    ax.set_yticks([])\n",
    "    ax.margins(0, 0.01)\n",
    "    ax.grid(which='major', axis='x', linestyle='-')\n",
    "    ax.set_axisbelow(True)\n",
    "    ax.text(0, 1.12, 'The most populous cities in the world from 1500 to 2018',\n",
    "            transform=ax.transAxes, size=24, weight=600, ha='left')\n",
    "    \n",
    "    ax.text(1, 0, 'by @pratapvardhan; credit @jburnmurdoch', \n",
    "            transform=ax.transAxes, ha='right', color='#777777', \n",
    "            bbox=dict(facecolor='white', alpha=0.8, edgecolor='white'))\n",
    "    plt.box(False)\n",
    "    plt.show()\n",
    "\n",
    "fig, ax = plt.subplots(figsize=(15, 8))\n",
    "animator = FuncAnimation(fig, draw_barchart, \n",
    "                         frames = range(1990, 2019))\n",
    "plt.show()"
   ]
  }
 ],
 "metadata": {
  "kernelspec": {
   "display_name": "Python 3.11",
   "language": "python",
   "name": "py3.11"
  },
  "language_info": {
   "codemirror_mode": {
    "name": "ipython",
    "version": 3
   },
   "file_extension": ".py",
   "mimetype": "text/x-python",
   "name": "python",
   "nbconvert_exporter": "python",
   "pygments_lexer": "ipython3",
   "version": "3.11.7"
  }
 },
 "nbformat": 4,
 "nbformat_minor": 2
}
